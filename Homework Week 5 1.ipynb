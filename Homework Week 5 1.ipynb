{
 "cells": [
  {
   "cell_type": "code",
   "execution_count": null,
   "metadata": {},
   "outputs": [],
   "source": [
    "# 1. *What is pandas* - An open-source Python package that is most widely used for data science/data analysis and machine learning tasks.\n",
    "\n",
    "# 2. What are the 2 collections used in Pandas? - Series and Dataframe series.\n",
    "\n",
    "# 3. Name 4 things Pandas can do for us - Load Data, Clean Data, Manipulate and analyze data.\n",
    "\n",
    "# 4. To permanently sort a DataFrame, which keyword should one use with the df.sort() method?  Inplace\n",
    "\n",
    "# 5. What is a csv? *a text file format that uses commas to separate values and organizes it into table format*\n",
    "\n",
    "# 6. When cleaning data what values do we not like in our data? Nulls"
   ]
  },
  {
   "cell_type": "code",
   "execution_count": 46,
   "metadata": {},
   "outputs": [
    {
     "name": "stdout",
     "output_type": "stream",
     "text": [
      "[[ 8 17]\n",
      " [ 9  3]\n",
      " [89 90]]\n",
      "[[ 8 17  9]\n",
      " [ 3 89 90]]\n"
     ]
    }
   ],
   "source": [
    "# 7. Import NumPy, use one of the NumPy methods and create an array with a shape of (2, 3, 2). You can use the reshape method -- .reshape()\n",
    "import numpy as np\n",
    "\n",
    "aArray = np.array([[8,17], [9,3],[89,90]])\n",
    "print(aArray)\n",
    "newshape = aArray.reshape(2,-1)\n",
    "print(newshape) #why can I choose any negatve for the second number but not positives?"
   ]
  },
  {
   "cell_type": "code",
   "execution_count": 50,
   "metadata": {},
   "outputs": [
    {
     "name": "stdout",
     "output_type": "stream",
     "text": [
      "[ 0.  4.  8. 12. 16. 20.]\n"
     ]
    }
   ],
   "source": [
    "# 8. Import NumPy, use one of the NumPy methods and create an array with a shape of (2, 3, 2). You can use the reshape method -- .reshape()\n",
    "\n",
    "import numpy as np\n",
    "\n",
    "arrayb = np.linspace(0,20, num = 6)\n",
    "print(arrayb)"
   ]
  },
  {
   "cell_type": "code",
   "execution_count": 51,
   "metadata": {},
   "outputs": [
    {
     "name": "stdout",
     "output_type": "stream",
     "text": [
      "(0, 4, 8, 12, 16, 20)\n"
     ]
    }
   ],
   "source": [
    "# 9. Make a Deep Copy of the above array\n",
    "\n",
    "import copy\n",
    "\n",
    "arrayb = ((0,4,8,12,16,20))\n",
    "arrayc = copy.deepcopy(arrayb)\n",
    "print(arrayc)\n"
   ]
  },
  {
   "cell_type": "code",
   "execution_count": 4,
   "metadata": {},
   "outputs": [
    {
     "name": "stdout",
     "output_type": "stream",
     "text": [
      "[[25 16]\n",
      " [11  2]\n",
      " [13  4]\n",
      " [ 7 81]\n",
      " [ 5  6]\n",
      " [11 12]]\n"
     ]
    }
   ],
   "source": [
    "# 10. Concatenate these 3 arrays into a new array named 'newArray'...\n",
    "\n",
    "import numpy as np\n",
    "\n",
    "oldarray1 = ([[25, 16]])\n",
    "oldarray2 = ([[11, 2], [13, 4]])\n",
    "oldarray3 = ([[7, 81], [5, 6], [11, 12]])\n",
    "\n",
    "newarray = np.concatenate((oldarray1,oldarray2,oldarray3),axis =0)\n",
    "print(newarray)\n"
   ]
  },
  {
   "cell_type": "code",
   "execution_count": 6,
   "metadata": {},
   "outputs": [
    {
     "name": "stdout",
     "output_type": "stream",
     "text": [
      "[[16 25]\n",
      " [ 2 11]\n",
      " [ 4 13]\n",
      " [ 7 81]\n",
      " [ 5  6]\n",
      " [11 12]]\n"
     ]
    }
   ],
   "source": [
    "# 11. Sort 'newArray' in order into 'sortedArray'\n",
    "\n",
    "import numpy as np\n",
    "\n",
    "sortedarray = np.sort(newarray)\n",
    "print(sortedarray)"
   ]
  },
  {
   "cell_type": "code",
   "execution_count": 9,
   "metadata": {},
   "outputs": [
    {
     "ename": "NameError",
     "evalue": "name 'newarray' is not defined",
     "output_type": "error",
     "traceback": [
      "\u001b[0;31m---------------------------------------------------------------------------\u001b[0m",
      "\u001b[0;31mNameError\u001b[0m                                 Traceback (most recent call last)",
      "Cell \u001b[0;32mIn[9], line 6\u001b[0m\n\u001b[1;32m      1\u001b[0m \u001b[38;5;66;03m# 12. Unpack the array tuples from the above 'reshapedArray' into 4 well named variables. Print the 4 variables.\u001b[39;00m\n\u001b[1;32m      3\u001b[0m \u001b[38;5;28;01mimport\u001b[39;00m \u001b[38;5;21;01mnumpy\u001b[39;00m \u001b[38;5;28;01mas\u001b[39;00m \u001b[38;5;21;01mnp\u001b[39;00m\n\u001b[0;32m----> 6\u001b[0m a,b,c,d,e,f \u001b[38;5;241m=\u001b[39m \u001b[43mnewarray\u001b[49m\n\u001b[1;32m      8\u001b[0m \u001b[38;5;28mprint\u001b[39m(a)\n\u001b[1;32m      9\u001b[0m \u001b[38;5;28mprint\u001b[39m(b)\n",
      "\u001b[0;31mNameError\u001b[0m: name 'newarray' is not defined"
     ]
    }
   ],
   "source": [
    "# 12. Unpack the array tuples from the above 'reshapedArray' into 4 well named variables. Print the 4 variables.\n",
    "\n",
    "import numpy as np\n",
    "\n",
    "\n",
    "a,b,c,d,e,f = newarray\n",
    "\n",
    "print(a)\n",
    "print(b)\n",
    "print(c)\n",
    "print(d)\n",
    "print(e)\n",
    "print(f) \n",
    "\n",
    "# I made the correction but i dont know why im getting an error.\n"
   ]
  },
  {
   "cell_type": "code",
   "execution_count": 13,
   "metadata": {},
   "outputs": [
    {
     "name": "stdout",
     "output_type": "stream",
     "text": [
      "[10 11 12 13 14 15 16 17 20 21 22 23 24 25 26 27  0  1  2  3  4  5  6  7]\n",
      "[ 0  1  2  3  4  5  6  7 10 11 12 13 14 15 16 17 20 21 22 23 24 25 26 27]\n"
     ]
    }
   ],
   "source": [
    "#13. Combined and sort the following arrays into one called 'comboArray' ...\n",
    "\n",
    "\n",
    "one = ([10, 11, 12, 13, 14, 15, 16, 17])\n",
    "two = ([20, 21, 22, 23, 24, 25, 26, 27])\n",
    "three = ([ 0, 1, 2, 3, 4, 5, 6, 7])\n",
    "\n",
    "comboArray = np.concatenate((one, two, three), axis = 0)\n",
    "print(comboArray)\n",
    "\n",
    "comboArray = np.sort(comboArray)\n",
    "print(comboArray)"
   ]
  },
  {
   "cell_type": "code",
   "execution_count": 28,
   "metadata": {},
   "outputs": [
    {
     "name": "stdout",
     "output_type": "stream",
     "text": [
      "1\n",
      "[ 2  3  4  5  6  7 10 11 12 13 14 15 16 17 20 21 22 23 24 25 26 27]\n",
      "[ 3  4  5  6  7 10 11 12 13 14 15 16]\n",
      "[22 23 24 25 26 27]\n",
      "[ 0  1  2  3  4  5  6  7 10 11 12 13 14 15]\n",
      "[20 22 24 26]\n",
      "[27 22 15 10  3]\n"
     ]
    }
   ],
   "source": [
    "# 14. Take 'comboArray' and perform the following slicing activities:\n",
    "\n",
    "import numpy as np\n",
    "\n",
    "print(comboArray[1])\n",
    "print(comboArray[2:24])\n",
    "print(comboArray[3:15])\n",
    "print(comboArray[18:24])\n",
    "print(comboArray[-24:-10])\n",
    "print(comboArray[16::2])\n",
    "print(comboArray[23::-5]) #unsure on this one, do I somehow loop this array??"
   ]
  },
  {
   "cell_type": "code",
   "execution_count": 35,
   "metadata": {},
   "outputs": [
    {
     "name": "stdout",
     "output_type": "stream",
     "text": [
      "0    flour\n",
      "1     milk\n",
      "2     eggs\n",
      "3     spam\n",
      "dtype: object\n",
      "0    4\n",
      "1    1\n",
      "2    2\n",
      "3    1\n",
      "dtype: int64\n",
      "0     cups\n",
      "1      cup\n",
      "2    large\n",
      "3      can\n",
      "dtype: object\n"
     ]
    }
   ],
   "source": [
    "# 15. Using Series, create a DataFrame that looks like this:\n",
    "\n",
    "import pandas as pd\n",
    "\n",
    "ingredients = pd.Series ([\"flour\",\"milk\",\"eggs\",\"spam\"])\n",
    "quantity = pd.Series ([4,1,2,1])\n",
    "unit = pd.Series ([\"cups\",\"cup\",\"large\",\"can\"])\n",
    "\n",
    "print(ingredients)\n",
    "print(quantity)\n",
    "print(unit)\n",
    "\n",
    "\n"
   ]
  },
  {
   "cell_type": "code",
   "execution_count": 51,
   "metadata": {},
   "outputs": [
    {
     "name": "stdout",
     "output_type": "stream",
     "text": [
      "      Name  Height Qualification  address  Age        Pets           sport\n",
      "3     Anuj     5.2           Msc   Dakhar   21      Parrot         Cricket\n",
      "2   Gaurav     5.1           Msc  Chennai   24  Chinchilla  PaddleBoarding\n",
      "0      Jai     5.1           Msc    Delhi   21         Dog           Darts\n",
      "1  janusha     6.2            MA     Doha   23       Bunny      Basketball\n"
     ]
    }
   ],
   "source": [
    "import pandas as pd\n",
    "\n",
    "# 16. Take this data and create a DataFrame named studentData\n",
    "\n",
    "studentdata = {\"Name\": ['Jai', 'janusha', 'Gaurav', 'Anuj'],\n",
    "        \"Height\": [5.1, 6.2, 5.1, 5.2],\n",
    "        \"Qualification\": ['Msc', 'MA', 'Msc', 'Msc'],\n",
    "        \"address\": ['Delhi', 'Doha', 'Chennai', 'Dakhar'],\n",
    "         \"Age\": [21, 23, 24, 21],\n",
    "         \"Pets\": ['Dog', 'Bunny', 'Chinchilla', 'Parrot'],\n",
    "          \"sport\": ['Darts', 'Basketball', 'PaddleBoarding', 'Cricket']}\n",
    "        \n",
    "studentData = pd.DataFrame(studentdata)\n",
    "\n",
    "# 17.Add a new column to the DataFrame with the following deserts: [\"ice cream\", \"Cashew Fudge\", \"waffels\", \"Carrot Halwa\"]\n",
    "\n",
    "desserts = [\"ice cream\", \"Cashew Fudge\", \"waffels\", \"Carrot Halwa\"]\n",
    "studentdata['desserts'] = desserts\n",
    "\n",
    "# 18. Sort the 'studentData' DataFrame in Ascending order -- Sorting by column 'Name' and then \"address\"\n",
    "studentData.sort_values(by = [\"Name\", \"address\"], inplace = True)\n",
    "print(studentData)\n"
   ]
  },
  {
   "cell_type": "code",
   "execution_count": 52,
   "metadata": {},
   "outputs": [
    {
     "name": "stdout",
     "output_type": "stream",
     "text": [
      "  Unnamed: 0  Cows  Goats\n",
      "0     Year 1    12     22\n",
      "1     Year 2    20     19\n"
     ]
    }
   ],
   "source": [
    "# 19. Save this DataFrame here below to disc as a .CSV file with the name cows_and_goats.csv:\n",
    "\n",
    "import pandas as pd\n",
    "\n",
    "df = pd.DataFrame({'Cows': [12, 20], 'Goats': [22, 19]}, index=['Year 1', 'Year 2'])\n",
    "df.to_csv('cows_and_goats.csv')\n",
    "\n",
    "df = pd.read_csv('cows_and_goats.csv')\n",
    "print(df)"
   ]
  },
  {
   "cell_type": "code",
   "execution_count": 53,
   "metadata": {},
   "outputs": [],
   "source": [
    "# 20. (A) Using Pandas, make your own .CSV file with data on vegetables and save it. (B) Using Pandas, make a change to your CSV file, and save a copy with a different name.\n",
    "\n",
    "import pandas as pd\n",
    "\n",
    "df = pd.DataFrame({'broccoli': [12, 20], 'peppers': [22, 19]}, index=['Year 1', 'Year 2'])\n",
    "df.to_csv('vegetables.csv')\n"
   ]
  }
 ],
 "metadata": {
  "kernelspec": {
   "display_name": "Python 3",
   "language": "python",
   "name": "python3"
  },
  "language_info": {
   "codemirror_mode": {
    "name": "ipython",
    "version": 3
   },
   "file_extension": ".py",
   "mimetype": "text/x-python",
   "name": "python",
   "nbconvert_exporter": "python",
   "pygments_lexer": "ipython3",
   "version": "3.12.1"
  }
 },
 "nbformat": 4,
 "nbformat_minor": 2
}
