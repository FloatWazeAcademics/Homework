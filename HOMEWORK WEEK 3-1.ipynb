{
 "cells": [
  {
   "cell_type": "code",
   "execution_count": null,
   "metadata": {},
   "outputs": [],
   "source": [
    "'An algorithm is a procedure used for solving a problem or performing a computation.'\n",
    "\n",
    "(\"Variables can't start with numbers or special characters\")\n",
    "\n",
    "'A semantic error is using the wrong variable or operator in expression or using an incorrect formula to calculate a result '\n",
    "\n",
    "'The number one rule of coding/debugging is to follow a consistent coding standard'\n",
    "\n",
    "\"5 Python reserved words.\"\n",
    "('False,True,Def,As,Else')\n",
    "\n"
   ]
  },
  {
   "cell_type": "markdown",
   "metadata": {},
   "source": [
    "# Homework"
   ]
  },
  {
   "cell_type": "code",
   "execution_count": null,
   "metadata": {},
   "outputs": [],
   "source": [
    "\"My name is Frankie\"\n",
    "\"My favorite food is chinese food\"\n",
    "\"My dream job is to be a psychologist and have my own practice\"\n"
   ]
  },
  {
   "cell_type": "code",
   "execution_count": 52,
   "metadata": {},
   "outputs": [
    {
     "name": "stdout",
     "output_type": "stream",
     "text": [
      "x 18\n"
     ]
    }
   ],
   "source": [
    "x = \"Welcome to the SEC\" #string\n",
    "a = '42' #integer\n",
    "b = '35.5' #float\n",
    "c = [\"Alabama\", \"LSU\" , \"Georgia\"] #list\n",
    "d = 'True' #boolean\n",
    "\n",
    "print('x', len(x))\n"
   ]
  },
  {
   "cell_type": "code",
   "execution_count": 5,
   "metadata": {},
   "outputs": [
    {
     "name": "stdout",
     "output_type": "stream",
     "text": [
      "savvy\n",
      "Learning Data Analytics and Python is Awesome!\n"
     ]
    }
   ],
   "source": [
    "My_var = 'savvy' #notes to remind myself\n",
    "\n",
    "savvy= \"Learning Data Analytics and Python is Awesome!\"\n",
    "print(My_var)\n",
    "print(savvy)"
   ]
  },
  {
   "cell_type": "code",
   "execution_count": 45,
   "metadata": {},
   "outputs": [
    {
     "name": "stdout",
     "output_type": "stream",
     "text": [
      "ing Data Analytics \n"
     ]
    }
   ],
   "source": [
    "print(savvy[5:24])"
   ]
  },
  {
   "cell_type": "code",
   "execution_count": 43,
   "metadata": {},
   "outputs": [
    {
     "name": "stdout",
     "output_type": "stream",
     "text": [
      "Learning Data Analytics and Python is great!\n"
     ]
    }
   ],
   "source": [
    "print(savvy.replace(\"Awesome\", \"great\"))"
   ]
  },
  {
   "cell_type": "code",
   "execution_count": 48,
   "metadata": {},
   "outputs": [
    {
     "name": "stdout",
     "output_type": "stream",
     "text": [
      "Hi my name is Frankie, I am 6'4 tall, and 34 years old today\n"
     ]
    }
   ],
   "source": [
    "variables = ('name', 'age', 'length')\n",
    "name = 'Frankie'\n",
    "age = '34'\n",
    "length = \"6'4\"\n",
    "miniBio = \"Hi my name is \" + name +\", I am \" + length +\" tall, and \" + age +\" years old today\"\n",
    "\n",
    "age = float(34)\n",
    "print(miniBio)"
   ]
  },
  {
   "cell_type": "code",
   "execution_count": 4,
   "metadata": {},
   "outputs": [
    {
     "name": "stdout",
     "output_type": "stream",
     "text": [
      "9\n",
      "['Running_Back', 'Wide_Receiver', 'Line_Backer', 'Tight_End', 44, 'Corner_Back', 'Free_Safety', 'Strong_Safety', 'Kicker_Punter']\n",
      "['Running_Back', 'Wide_Receiver', 'Line_Backer', 'Tight_End']\n",
      "['Running_Back', 'Wide_Receiver', 'Line_Backer', 'Tight_End', 44, 'Corner_Back', 'Free_Safety', 'Strong_Safety', 'Kicker_Punter', 'Running_Back', 'Wide_Receiver', 'Line_Backer', 'Tight_End']\n",
      "['Running_Back', 'Wide_Receiver', 'Line_Backer', 'Tight_End']\n",
      "['Running_Back', 'Wide_Receiver', 'Line_Backer', 'Tight_End', 44, 'Corner_Back', 'Free_Safety', 'Strong_Safety', 'Kicker_Punter', 'Running_Back', 'Wide_Receiver', 'Line_Backer', 'Tight_End', 'Running_Back', 'Wide_Receiver', 'Line_Backer', 'Tight_End']\n",
      "['MLB', 'NBA', 'NCAA', 'NFL', 'NHL']\n",
      "['NBA', 'NFL', 'NHL', 'MLB', 'NCAA']\n",
      "['Running_Back', 'Wide_Receiver', 'Line_Backer', 'Tight_End', 'NBA', 'NFL', 'NHL', 'MLB', 'NCAA']\n"
     ]
    }
   ],
   "source": [
    "mixlist = ['Running_Back', 'Wide_Receiver', 'Line_Backer','Tight_End', '88','Corner_Back'] \n",
    "mixlist[4] = 44\n",
    "mixlist.append ('Free_Safety')\n",
    "mixlist.append ('Strong_Safety')\n",
    "mixlist.append ('Kicker_Punter')\n",
    "print(len(mixlist))\n",
    "print(mixlist)\n",
    "\n",
    "positions = mixlist[0:4]\n",
    "print(positions)\n",
    "\n",
    "mixlist.extend(positions)\n",
    "print(mixlist)\n",
    "\n",
    "#second list\n",
    "secondlist = mixlist[0:4] #slice same as cutting the list\n",
    "print(secondlist)\n",
    "mixlist.extend(secondlist) #extend means combine\n",
    "print(mixlist)\n",
    "\n",
    "#third list\n",
    "simlist = ['NBA','NFL','NHL','MLB','NCAA']\n",
    "\n",
    "print(sorted(simlist)) #sorted in 'abc' orders\n",
    "\n",
    "thirdlist = simlist.copy()\n",
    "print(thirdlist)\n",
    "\n",
    "fourthlist = (secondlist + thirdlist)\n",
    "print(fourthlist)\n",
    "\n"
   ]
  },
  {
   "cell_type": "code",
   "execution_count": 40,
   "metadata": {},
   "outputs": [
    {
     "name": "stdout",
     "output_type": "stream",
     "text": [
      "ineedspace\n",
      "('athlete', 'trackstar', 'usain_bolt', 'olympics', 'usa', 'athlete', 'trackstar', 'usain_bolt', 'olympics', 'usa', 'athlete', 'trackstar', 'usain_bolt', 'olympics', 'usa')\n",
      "trackstar\n",
      "('athlete', 'trackstar', 'usain_bolt', 'olympics', 'usa', 'athlete', 'trackstar', 'usain_bolt', 'olympics', 'usa', 'athlete', 'trackstar', 'usain_bolt', 'olympics', 'usa')\n",
      "['athlete', 'athlete', 'athlete', 'olympics', 'olympics', 'olympics', 'trackstar', 'trackstar', 'trackstar', 'usa', 'usa', 'usa', 'usain_bolt', 'usain_bolt', 'usain_bolt']\n",
      "ineedspace\n",
      "('athlete', 'trackstar', 'usain_bolt', 'olympics')\n",
      "ineedspace\n",
      "('athlete', 'trackstar', 'usain_bolt', 'olympics')\n",
      "ineedspace\n",
      "(50,)\n",
      "('athlete', 'trackstar', 'usain_bolt', 'olympics', 'usa', 'athlete', 'trackstar', 'usain_bolt', 'olympics', 'usa', 'athlete', 'trackstar', 'usain_bolt', 'olympics', 'usa', 'athlete', 'trackstar', 'usain_bolt', 'olympics')\n"
     ]
    }
   ],
   "source": [
    "#tuple\n",
    "tupleone = ('athlete','trackstar','usain_bolt','olympics','usa')\n",
    "multituple = tupleone * 3\n",
    "\n",
    "print('ineedspace')\n",
    "\n",
    "print(multituple)\n",
    "\n",
    "print(multituple[11])\n",
    "\n",
    "print(multituple)\n",
    "print(sorted(multituple))\n",
    "\n",
    "print('ineedspace')\n",
    "\n",
    "print(tupleone[0:4])\n",
    "thirdtuple = (tupleone[0:4])\n",
    "\n",
    "print('ineedspace')\n",
    "tupleone = thirdtuple\n",
    "print(thirdtuple)\n",
    "\n",
    "print('ineedspace')\n",
    "\n",
    "fourthtuple = (50,)\n",
    "print(fourthtuple)\n",
    "\n",
    "fithtuple = multituple+ thirdtuple\n",
    "print(fithtuple)\n",
    "\n",
    "\n",
    "\n",
    "\n",
    "\n",
    "\n",
    "\n"
   ]
  },
  {
   "cell_type": "code",
   "execution_count": 41,
   "metadata": {},
   "outputs": [
    {
     "name": "stdout",
     "output_type": "stream",
     "text": [
      "{'penut', 'vanilla', 'grapes', 'cookies and cream', 'Chocolate', 'banana', 'mango'}\n",
      "ineedspace\n",
      "{'penut', 'nailclippers', 'nosering', 'vanilla', 'grapes', 'cookies and cream', 'pencil', 'Chocolate', 'banana', 'mango'}\n",
      "ineedspace\n",
      "{'pencil', 'nosering'}\n",
      "ineedspace\n",
      "set()\n",
      "ineedspace\n",
      "{'penut', 'nailclippers', 'nosering', 'vanilla', 'grapes', 'Chocolate', 'banana', 'mango'}\n"
     ]
    }
   ],
   "source": [
    "icecreamset = {'vanilla', 'Chocolate', 'cookies and cream'}\n",
    "\n",
    "icecreamset.add('mango')\n",
    "icecreamset.add('banana')\n",
    "icecreamset.add('penut')\n",
    "icecreamset.add('grapes')\n",
    "print(icecreamset)\n",
    "\n",
    "print('ineedspace')\n",
    "\n",
    "secondset = {'nosering', 'nailclippers', 'pencil'}\n",
    "thirdset = icecreamset.union(secondset)\n",
    "print(thirdset)\n",
    "\n",
    "print('ineedspace')\n",
    "\n",
    "secondset.pop()\n",
    "print(secondset)\n",
    "\n",
    "print('ineedspace')\n",
    "\n",
    "icecreamset.clear()\n",
    "print(icecreamset)\n",
    "\n",
    "print('ineedspace')\n",
    "\n",
    "thirdset.discard('cookies and cream')\n",
    "thirdset.remove('pencil')\n",
    "print(thirdset)"
   ]
  },
  {
   "cell_type": "code",
   "execution_count": 34,
   "metadata": {},
   "outputs": [
    {
     "name": "stdout",
     "output_type": "stream",
     "text": [
      "{'brand': 'Jeep', 'model': 'Sahara', 'year': 2020, 'color': 'black'}\n",
      "model\n",
      "ineedspace\n",
      "{'brand': 'Jeep', 'model': 'Sahara', 'year': 2020, 'color': 'black', 'Jeep': 'Frankie'}\n",
      "ineedspace\n",
      "{'brand': 'Jeep', 'model': 'Sahara', 'year': 2020, 'color': 'red', 'Jeep': 'Frankie'}\n",
      "ineedspace\n",
      "{'brand': 'Jeep', 'model': 'Sahara', 'year': 2020, 'color': 'red', 'Jeep': 'Frankie', 'list': ('espn', 'nflnetwork', 'espntwo')}\n",
      "dict_keys(['brand', 'model', 'year', 'color', 'Jeep', 'list'])\n",
      "dict_values(['Jeep', 'Sahara', 2020, 'red', 'Frankie', ('espn', 'nflnetwork', 'espntwo')])\n",
      "{'brand': 'Jeep', 'model': 'Sahara', 'year': 2020, 'color': 'red', 'Jeep': 'Frankie', 'list': ('espn', 'nflnetwork', 'espntwo')}\n",
      "{'brand': 'Jeep', 'model': 'Sahara', 'year': 2020, 'color': 'red', 'Jeep': 'Frankie', 'list': ('espn', 'nflnetwork', 'espntwo')}\n"
     ]
    }
   ],
   "source": [
    "mydictionary = {\n",
    "    \"brand\": \"Jeep\",\n",
    "    \"model\": \"Sahara\",\n",
    "    \"year\": 1995,\n",
    "    \"year\": 2020,\n",
    "    \"color\": \"black\"}\n",
    "print(mydictionary)\n",
    "print(\"model\")\n",
    "\n",
    "print('ineedspace')\n",
    "\n",
    "mydictionary[\"Jeep\"] = \"Frankie\"\n",
    "print(mydictionary) #why did this just add a new value of \"jeep : \"frankie\" ??\n",
    "\n",
    "print('ineedspace')\n",
    "\n",
    "mydictionary[\"color\"] = \"red\"\n",
    "print(mydictionary)\n",
    "\n",
    "print('ineedspace')\n",
    "\n",
    "mydictionary[\"list\"] = ('espn','nflnetwork','espntwo')\n",
    "print(mydictionary)\n",
    "\n",
    "print(mydictionary.keys())\n",
    "print(mydictionary.values())\n",
    "\n",
    "seconddictionary = mydictionary.copy()\n",
    "print(seconddictionary)\n",
    "\n"
   ]
  },
  {
   "cell_type": "markdown",
   "metadata": {},
   "source": []
  }
 ],
 "metadata": {
  "kernelspec": {
   "display_name": "Python 3",
   "language": "python",
   "name": "python3"
  },
  "language_info": {
   "codemirror_mode": {
    "name": "ipython",
    "version": 3
   },
   "file_extension": ".py",
   "mimetype": "text/x-python",
   "name": "python",
   "nbconvert_exporter": "python",
   "pygments_lexer": "ipython3",
   "version": "3.12.1"
  }
 },
 "nbformat": 4,
 "nbformat_minor": 2
}
